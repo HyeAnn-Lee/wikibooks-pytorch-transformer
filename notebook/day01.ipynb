{
 "cells": [
  {
   "cell_type": "code",
   "execution_count": 2,
   "metadata": {},
   "outputs": [
    {
     "name": "stdout",
     "output_type": "stream",
     "text": [
      "2.4.0\n",
      "True\n",
      "11.8\n"
     ]
    }
   ],
   "source": [
    "import torch\n",
    "print(torch.__version__)\n",
    "print(torch.cuda.is_available())\n",
    "print(torch.version.cuda)"
   ]
  },
  {
   "cell_type": "markdown",
   "metadata": {},
   "source": [
    "✔ 오늘 새로 알게된 부분이 있다면 간략히 설명해주세요. \n",
    "\n",
    "- 딥러닝은 머신러닝의 한 유형이다.\n",
    "- 전통적 프로그래밍이 [데이터 + 규칙 -> 결과값]이라면, 머신러닝은 [데이터 + 결과값 -> 규칙]이라고 볼 수 있다.\n",
    "- Binary classification의 대표적인 알고리즘: logistic regression / Multiclass classification의 대표적인 알고리즘: softmax regression"
   ]
  }
 ],
 "metadata": {
  "kernelspec": {
   "display_name": "wikibooks-pytorch",
   "language": "python",
   "name": "python3"
  },
  "language_info": {
   "codemirror_mode": {
    "name": "ipython",
    "version": 3
   },
   "file_extension": ".py",
   "mimetype": "text/x-python",
   "name": "python",
   "nbconvert_exporter": "python",
   "pygments_lexer": "ipython3",
   "version": "3.9.19"
  }
 },
 "nbformat": 4,
 "nbformat_minor": 2
}
