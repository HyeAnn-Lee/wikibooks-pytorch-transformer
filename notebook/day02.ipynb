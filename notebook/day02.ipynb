{
 "cells": [
  {
   "cell_type": "code",
   "execution_count": 1,
   "metadata": {},
   "outputs": [],
   "source": [
    "import torch\n",
    "import numpy as np"
   ]
  },
  {
   "cell_type": "markdown",
   "metadata": {},
   "source": [
    "예제 3.1 - 텐서 생성"
   ]
  },
  {
   "cell_type": "code",
   "execution_count": 2,
   "metadata": {},
   "outputs": [
    {
     "name": "stdout",
     "output_type": "stream",
     "text": [
      "tensor([1, 2, 3])\n",
      "tensor([[1., 2., 3.],\n",
      "        [4., 5., 6.]])\n",
      "tensor([1, 2, 3])\n",
      "tensor([1., 2., 3.])\n"
     ]
    }
   ],
   "source": [
    "print(torch.tensor([1,2,3]))\n",
    "print(torch.Tensor([[1,2,3],[4,5,6]]))\n",
    "print(torch.LongTensor([1,2,3]))\n",
    "print(torch.FloatTensor([1,2,3]))"
   ]
  },
  {
   "cell_type": "markdown",
   "metadata": {},
   "source": [
    "예제 3.2 - 텐서 속성"
   ]
  },
  {
   "cell_type": "code",
   "execution_count": 3,
   "metadata": {},
   "outputs": [
    {
     "name": "stdout",
     "output_type": "stream",
     "text": [
      "tensor([[0.1803, 0.1807]])\n",
      "torch.Size([1, 2]) torch.float32 cpu\n"
     ]
    }
   ],
   "source": [
    "tensor = torch.rand(1,2)\n",
    "print(tensor)\n",
    "print(tensor.shape, tensor.dtype, tensor.device)"
   ]
  },
  {
   "cell_type": "markdown",
   "metadata": {},
   "source": [
    "예제 3.3 - 텐서 차원 변환"
   ]
  },
  {
   "cell_type": "code",
   "execution_count": 4,
   "metadata": {},
   "outputs": [
    {
     "name": "stdout",
     "output_type": "stream",
     "text": [
      "tensor([[0.0066, 0.6362]])\n",
      "torch.Size([1, 2])\n",
      "tensor([[0.0066],\n",
      "        [0.6362]])\n",
      "torch.Size([2, 1])\n"
     ]
    }
   ],
   "source": [
    "tensor = torch.rand(1,2)\n",
    "print(tensor)\n",
    "print(tensor.shape)\n",
    "\n",
    "tensor = tensor.reshape(2,1)\n",
    "print(tensor)\n",
    "print(tensor.shape)"
   ]
  },
  {
   "cell_type": "markdown",
   "metadata": {},
   "source": [
    "예제 3.4 - 텐서 자료형 설정"
   ]
  },
  {
   "cell_type": "code",
   "execution_count": 5,
   "metadata": {},
   "outputs": [
    {
     "name": "stdout",
     "output_type": "stream",
     "text": [
      "tensor([[0.9592, 0.4389, 0.4563],\n",
      "        [0.8738, 0.8092, 0.1041],\n",
      "        [0.0986, 0.4870, 0.9785]])\n"
     ]
    }
   ],
   "source": [
    "tensor = torch.rand((3,3), dtype=torch.float)\n",
    "print(tensor)"
   ]
  },
  {
   "cell_type": "markdown",
   "metadata": {},
   "source": [
    "예제 3.5 - 텐서 GPU 장치 설정"
   ]
  },
  {
   "cell_type": "code",
   "execution_count": 6,
   "metadata": {},
   "outputs": [
    {
     "name": "stdout",
     "output_type": "stream",
     "text": [
      "cuda\n",
      "tensor([1., 2., 3.])\n",
      "tensor([1., 2., 3.], device='cuda:0')\n",
      "tensor([[0.4409]], device='cuda:0')\n"
     ]
    }
   ],
   "source": [
    "device = \"cuda\" if torch.cuda.is_available() else \"cpu\"\n",
    "cpu = torch.FloatTensor([1,2,3])\n",
    "# gpu = torch.cuda.FloatTensor([1,2,3])   # old notation. use below one.\n",
    "gpu = torch.tensor([1,2,3], dtype=torch.float, device='cuda')   # this one!\n",
    "tensor = torch.rand((1,1), device=device)\n",
    "print(device)\n",
    "print(cpu)\n",
    "print(gpu)\n",
    "print(tensor)"
   ]
  },
  {
   "cell_type": "markdown",
   "metadata": {},
   "source": [
    "예제 3.6 - 텐서 장치 변환"
   ]
  },
  {
   "cell_type": "code",
   "execution_count": 7,
   "metadata": {},
   "outputs": [
    {
     "name": "stdout",
     "output_type": "stream",
     "text": [
      "tensor([1., 2., 3.])\n",
      "tensor([1., 2., 3.], device='cuda:0')\n",
      "tensor([1., 2., 3.])\n",
      "tensor([1., 2., 3.], device='cuda:0')\n"
     ]
    }
   ],
   "source": [
    "cpu = torch.FloatTensor([1,2,3])\n",
    "gpu = cpu.cuda()\n",
    "gpu2cpu = gpu.cpu()\n",
    "cpu2gpu = cpu.to('cuda')\n",
    "print(cpu)\n",
    "print(gpu)\n",
    "print(gpu2cpu)\n",
    "print(cpu2gpu)"
   ]
  },
  {
   "cell_type": "markdown",
   "metadata": {},
   "source": [
    "예제 3.7 - 넘파이 배열의 텐서 변환"
   ]
  },
  {
   "cell_type": "code",
   "execution_count": 8,
   "metadata": {},
   "outputs": [
    {
     "name": "stdout",
     "output_type": "stream",
     "text": [
      "tensor([1, 2, 3], dtype=torch.uint8)\n",
      "tensor([1., 2., 3.])\n",
      "tensor([1, 2, 3], dtype=torch.uint8)\n"
     ]
    }
   ],
   "source": [
    "ndarray = np.array([1,2,3], dtype=np.uint8)\n",
    "print(torch.tensor(ndarray))\n",
    "print(torch.Tensor(ndarray))\n",
    "print(torch.from_numpy(ndarray))"
   ]
  },
  {
   "cell_type": "markdown",
   "metadata": {},
   "source": [
    "예제 3.8 - 텐서의 넘파이 배열 변환"
   ]
  },
  {
   "cell_type": "code",
   "execution_count": 10,
   "metadata": {},
   "outputs": [
    {
     "name": "stdout",
     "output_type": "stream",
     "text": [
      "[1. 2. 3.]\n",
      "<class 'numpy.ndarray'>\n"
     ]
    }
   ],
   "source": [
    "tensor = torch.tensor([1,2,3], dtype=torch.float, device='cuda')\n",
    "ndarray = tensor.detach().cpu().numpy()\n",
    "print(ndarray)\n",
    "print(type(ndarray))"
   ]
  },
  {
   "cell_type": "markdown",
   "metadata": {},
   "source": [
    "✔ 오늘 새로 알게된 부분이 있다면 간략히 설명해주세요.\n",
    "\n",
    "- `torch.tensor()` 보다는 `torch.Tensor()`를 사용하는 게 낫다.\n",
    "- 텐서는 `shape`, `dtype`, `device`가 모두 일치해야 서로 연산할 수 있다. 이 중 device는 `.cpu()` 나 `.cuda()` 를 통해서 하면 된다.\n",
    "- 텐서는 학습을 위한 데이터 형식으로, 모든 연산을 추적해 기록한다. 이 기록을 통해 역전파 등과 같은 연산이 진행되어 모델 학습이 이루어진다. 다시 말해, 텐서의 데이터가 어떻게 변경되고 관리되었는지 기록된다.\n",
    "- 연속형 변수에 사용되는 loss function에는 [squared error, sum of squared error, mean squared error] 등이 있고, 이산형 변수에 사용되는 loss function에는 [cross entropy] 등이 있다. cross entropy는 실제값의 확률분포와 예측값의 확률분포 간의 차이를 계산한다. { - sum ( y * log (y_hat) )} 꼴이다.\n",
    "- 최적화 알고리즘에는 [gradient descent (GD), momentum, adaptive gradient (AdaGrad), Adaptive Moment Estimation (Adam)] 등이 있다."
   ]
  }
 ],
 "metadata": {
  "kernelspec": {
   "display_name": "wikibooks-pytorch-transformer",
   "language": "python",
   "name": "python3"
  },
  "language_info": {
   "codemirror_mode": {
    "name": "ipython",
    "version": 3
   },
   "file_extension": ".py",
   "mimetype": "text/x-python",
   "name": "python",
   "nbconvert_exporter": "python",
   "pygments_lexer": "ipython3",
   "version": "3.9.19"
  }
 },
 "nbformat": 4,
 "nbformat_minor": 2
}
